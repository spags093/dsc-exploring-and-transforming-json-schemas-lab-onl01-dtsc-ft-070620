{
 "cells": [
  {
   "cell_type": "markdown",
   "metadata": {},
   "source": [
    "# Exploring and Transforming JSON Schemas"
   ]
  },
  {
   "cell_type": "markdown",
   "metadata": {},
   "source": [
    "# Introduction\n",
    "\n",
    "In this lesson, you'll formalize how to explore a JSON file whose structure and schema is unknown to you. This often happens in practice when you are handed a file or stumble upon one with little documentation."
   ]
  },
  {
   "cell_type": "markdown",
   "metadata": {},
   "source": [
    "## Objectives\n",
    "You will be able to:\n",
    "* Use the JSON module to load and parse JSON documents\n",
    "* Load and explore unknown JSON schemas\n",
    "* Convert JSON to a pandas dataframe"
   ]
  },
  {
   "cell_type": "markdown",
   "metadata": {},
   "source": [
    "## Loading the JSON file\n",
    "\n",
    "Load the data from the file `disease_data.json`."
   ]
  },
  {
   "cell_type": "code",
   "execution_count": 1,
   "metadata": {},
   "outputs": [],
   "source": [
    "#Your code here\n",
    "import pandas as pd\n",
    "import json\n",
    "\n",
    "f = open('disease_data.json')\n",
    "data = json.load(f)"
   ]
  },
  {
   "cell_type": "markdown",
   "metadata": {},
   "source": [
    "## Explore the first and second levels of the schema hierarchy"
   ]
  },
  {
   "cell_type": "code",
   "execution_count": 5,
   "metadata": {},
   "outputs": [
    {
     "data": {
      "text/plain": [
       "dict_keys(['meta', 'data'])"
      ]
     },
     "execution_count": 5,
     "metadata": {},
     "output_type": "execute_result"
    }
   ],
   "source": [
    "data.keys()"
   ]
  },
  {
   "cell_type": "code",
   "execution_count": 4,
   "metadata": {},
   "outputs": [
    {
     "data": {
      "text/plain": [
       "list"
      ]
     },
     "execution_count": 4,
     "metadata": {},
     "output_type": "execute_result"
    }
   ],
   "source": [
    "#Your code here\n",
    "type(data['data'])"
   ]
  },
  {
   "cell_type": "code",
   "execution_count": 7,
   "metadata": {
    "scrolled": false
   },
   "outputs": [
    {
     "data": {
      "text/plain": [
       "60266"
      ]
     },
     "execution_count": 7,
     "metadata": {},
     "output_type": "execute_result"
    }
   ],
   "source": [
    "len(data['data'])"
   ]
  },
  {
   "cell_type": "code",
   "execution_count": 8,
   "metadata": {},
   "outputs": [
    {
     "data": {
      "text/plain": [
       "dict"
      ]
     },
     "execution_count": 8,
     "metadata": {},
     "output_type": "execute_result"
    }
   ],
   "source": [
    "type(data['meta'])"
   ]
  },
  {
   "cell_type": "code",
   "execution_count": 9,
   "metadata": {
    "scrolled": true
   },
   "outputs": [
    {
     "data": {
      "text/plain": [
       "dict_keys(['view'])"
      ]
     },
     "execution_count": 9,
     "metadata": {},
     "output_type": "execute_result"
    }
   ],
   "source": [
    "data['meta'].keys()"
   ]
  },
  {
   "cell_type": "code",
   "execution_count": 11,
   "metadata": {},
   "outputs": [
    {
     "data": {
      "text/plain": [
       "dict_keys(['id', 'name', 'attribution', 'attributionLink', 'averageRating', 'category', 'createdAt', 'description', 'displayType', 'downloadCount', 'hideFromCatalog', 'hideFromDataJson', 'indexUpdatedAt', 'licenseId', 'newBackend', 'numberOfComments', 'oid', 'provenance', 'publicationAppendEnabled', 'publicationDate', 'publicationGroup', 'publicationStage', 'rowClass', 'rowsUpdatedAt', 'rowsUpdatedBy', 'tableId', 'totalTimesRated', 'viewCount', 'viewLastModified', 'viewType', 'columns', 'grants', 'license', 'metadata', 'owner', 'query', 'rights', 'tableAuthor', 'tags', 'flags'])"
      ]
     },
     "execution_count": 11,
     "metadata": {},
     "output_type": "execute_result"
    }
   ],
   "source": [
    "data['meta']['view'].keys()"
   ]
  },
  {
   "cell_type": "code",
   "execution_count": 12,
   "metadata": {},
   "outputs": [
    {
     "name": "stdout",
     "output_type": "stream",
     "text": [
      "id <class 'str'>\n",
      "name <class 'str'>\n",
      "attribution <class 'str'>\n",
      "attributionLink <class 'str'>\n",
      "averageRating <class 'int'>\n",
      "category <class 'str'>\n",
      "createdAt <class 'int'>\n",
      "description <class 'str'>\n",
      "displayType <class 'str'>\n",
      "downloadCount <class 'int'>\n",
      "hideFromCatalog <class 'bool'>\n",
      "hideFromDataJson <class 'bool'>\n",
      "indexUpdatedAt <class 'int'>\n",
      "licenseId <class 'str'>\n",
      "newBackend <class 'bool'>\n",
      "numberOfComments <class 'int'>\n",
      "oid <class 'int'>\n",
      "provenance <class 'str'>\n",
      "publicationAppendEnabled <class 'bool'>\n",
      "publicationDate <class 'int'>\n",
      "publicationGroup <class 'int'>\n",
      "publicationStage <class 'str'>\n",
      "rowClass <class 'str'>\n",
      "rowsUpdatedAt <class 'int'>\n",
      "rowsUpdatedBy <class 'str'>\n",
      "tableId <class 'int'>\n",
      "totalTimesRated <class 'int'>\n",
      "viewCount <class 'int'>\n",
      "viewLastModified <class 'int'>\n",
      "viewType <class 'str'>\n",
      "columns <class 'list'>\n",
      "grants <class 'list'>\n",
      "license <class 'dict'>\n",
      "metadata <class 'dict'>\n",
      "owner <class 'dict'>\n",
      "query <class 'dict'>\n",
      "rights <class 'list'>\n",
      "tableAuthor <class 'dict'>\n",
      "tags <class 'list'>\n",
      "flags <class 'list'>\n"
     ]
    }
   ],
   "source": [
    "for key in data['meta']['view']:\n",
    "    print(key, type(data['meta']['view'][key]))"
   ]
  },
  {
   "cell_type": "markdown",
   "metadata": {},
   "source": [
    "## Convert to a DataFrame\n",
    "\n",
    "Create a DataFrame from the JSON file. Be sure to retrive the column names for the dataframe. (Search within the 'meta' key of the master dictionary.) The DataFrame should include all 42 columns."
   ]
  },
  {
   "cell_type": "code",
   "execution_count": 27,
   "metadata": {},
   "outputs": [
    {
     "name": "stdout",
     "output_type": "stream",
     "text": [
      "(60266, 42)\n"
     ]
    },
    {
     "data": {
      "text/html": [
       "<div>\n",
       "<style scoped>\n",
       "    .dataframe tbody tr th:only-of-type {\n",
       "        vertical-align: middle;\n",
       "    }\n",
       "\n",
       "    .dataframe tbody tr th {\n",
       "        vertical-align: top;\n",
       "    }\n",
       "\n",
       "    .dataframe thead th {\n",
       "        text-align: right;\n",
       "    }\n",
       "</style>\n",
       "<table border=\"1\" class=\"dataframe\">\n",
       "  <thead>\n",
       "    <tr style=\"text-align: right;\">\n",
       "      <th></th>\n",
       "      <th>sid</th>\n",
       "      <th>id</th>\n",
       "      <th>position</th>\n",
       "      <th>created_at</th>\n",
       "      <th>created_meta</th>\n",
       "      <th>updated_at</th>\n",
       "      <th>updated_meta</th>\n",
       "      <th>meta</th>\n",
       "      <th>YearStart</th>\n",
       "      <th>YearEnd</th>\n",
       "      <th>...</th>\n",
       "      <th>LocationID</th>\n",
       "      <th>TopicID</th>\n",
       "      <th>QuestionID</th>\n",
       "      <th>DataValueTypeID</th>\n",
       "      <th>StratificationCategoryID1</th>\n",
       "      <th>StratificationID1</th>\n",
       "      <th>StratificationCategoryID2</th>\n",
       "      <th>StratificationID2</th>\n",
       "      <th>StratificationCategoryID3</th>\n",
       "      <th>StratificationID3</th>\n",
       "    </tr>\n",
       "  </thead>\n",
       "  <tbody>\n",
       "    <tr>\n",
       "      <th>0</th>\n",
       "      <td>1</td>\n",
       "      <td>FF49C41F-CE8D-46C4-9164-653B1227CF6F</td>\n",
       "      <td>1</td>\n",
       "      <td>1527194521</td>\n",
       "      <td>959778</td>\n",
       "      <td>1527194521</td>\n",
       "      <td>959778</td>\n",
       "      <td>None</td>\n",
       "      <td>2016</td>\n",
       "      <td>2016</td>\n",
       "      <td>...</td>\n",
       "      <td>59</td>\n",
       "      <td>ALC</td>\n",
       "      <td>ALC2_2</td>\n",
       "      <td>CRDPREV</td>\n",
       "      <td>OVERALL</td>\n",
       "      <td>OVR</td>\n",
       "      <td>None</td>\n",
       "      <td>None</td>\n",
       "      <td>None</td>\n",
       "      <td>None</td>\n",
       "    </tr>\n",
       "    <tr>\n",
       "      <th>1</th>\n",
       "      <td>2</td>\n",
       "      <td>F4468C3D-340A-4CD2-84A3-DF554DFF065E</td>\n",
       "      <td>2</td>\n",
       "      <td>1527194521</td>\n",
       "      <td>959778</td>\n",
       "      <td>1527194521</td>\n",
       "      <td>959778</td>\n",
       "      <td>None</td>\n",
       "      <td>2016</td>\n",
       "      <td>2016</td>\n",
       "      <td>...</td>\n",
       "      <td>01</td>\n",
       "      <td>ALC</td>\n",
       "      <td>ALC2_2</td>\n",
       "      <td>CRDPREV</td>\n",
       "      <td>OVERALL</td>\n",
       "      <td>OVR</td>\n",
       "      <td>None</td>\n",
       "      <td>None</td>\n",
       "      <td>None</td>\n",
       "      <td>None</td>\n",
       "    </tr>\n",
       "    <tr>\n",
       "      <th>2</th>\n",
       "      <td>3</td>\n",
       "      <td>65609156-A343-4869-B03F-2BA62E96AC19</td>\n",
       "      <td>3</td>\n",
       "      <td>1527194521</td>\n",
       "      <td>959778</td>\n",
       "      <td>1527194521</td>\n",
       "      <td>959778</td>\n",
       "      <td>None</td>\n",
       "      <td>2016</td>\n",
       "      <td>2016</td>\n",
       "      <td>...</td>\n",
       "      <td>02</td>\n",
       "      <td>ALC</td>\n",
       "      <td>ALC2_2</td>\n",
       "      <td>CRDPREV</td>\n",
       "      <td>OVERALL</td>\n",
       "      <td>OVR</td>\n",
       "      <td>None</td>\n",
       "      <td>None</td>\n",
       "      <td>None</td>\n",
       "      <td>None</td>\n",
       "    </tr>\n",
       "    <tr>\n",
       "      <th>3</th>\n",
       "      <td>4</td>\n",
       "      <td>0DB09B00-EFEB-4AC0-9467-A7CBD2B57BF3</td>\n",
       "      <td>4</td>\n",
       "      <td>1527194521</td>\n",
       "      <td>959778</td>\n",
       "      <td>1527194521</td>\n",
       "      <td>959778</td>\n",
       "      <td>None</td>\n",
       "      <td>2016</td>\n",
       "      <td>2016</td>\n",
       "      <td>...</td>\n",
       "      <td>04</td>\n",
       "      <td>ALC</td>\n",
       "      <td>ALC2_2</td>\n",
       "      <td>CRDPREV</td>\n",
       "      <td>OVERALL</td>\n",
       "      <td>OVR</td>\n",
       "      <td>None</td>\n",
       "      <td>None</td>\n",
       "      <td>None</td>\n",
       "      <td>None</td>\n",
       "    </tr>\n",
       "    <tr>\n",
       "      <th>4</th>\n",
       "      <td>5</td>\n",
       "      <td>D98DA5BA-6FD6-40F5-A9B1-ABD45E44967B</td>\n",
       "      <td>5</td>\n",
       "      <td>1527194521</td>\n",
       "      <td>959778</td>\n",
       "      <td>1527194521</td>\n",
       "      <td>959778</td>\n",
       "      <td>None</td>\n",
       "      <td>2016</td>\n",
       "      <td>2016</td>\n",
       "      <td>...</td>\n",
       "      <td>05</td>\n",
       "      <td>ALC</td>\n",
       "      <td>ALC2_2</td>\n",
       "      <td>CRDPREV</td>\n",
       "      <td>OVERALL</td>\n",
       "      <td>OVR</td>\n",
       "      <td>None</td>\n",
       "      <td>None</td>\n",
       "      <td>None</td>\n",
       "      <td>None</td>\n",
       "    </tr>\n",
       "  </tbody>\n",
       "</table>\n",
       "<p>5 rows × 42 columns</p>\n",
       "</div>"
      ],
      "text/plain": [
       "   sid                                    id  position  created_at  \\\n",
       "0    1  FF49C41F-CE8D-46C4-9164-653B1227CF6F         1  1527194521   \n",
       "1    2  F4468C3D-340A-4CD2-84A3-DF554DFF065E         2  1527194521   \n",
       "2    3  65609156-A343-4869-B03F-2BA62E96AC19         3  1527194521   \n",
       "3    4  0DB09B00-EFEB-4AC0-9467-A7CBD2B57BF3         4  1527194521   \n",
       "4    5  D98DA5BA-6FD6-40F5-A9B1-ABD45E44967B         5  1527194521   \n",
       "\n",
       "  created_meta  updated_at updated_meta  meta YearStart YearEnd  ...  \\\n",
       "0       959778  1527194521       959778  None      2016    2016  ...   \n",
       "1       959778  1527194521       959778  None      2016    2016  ...   \n",
       "2       959778  1527194521       959778  None      2016    2016  ...   \n",
       "3       959778  1527194521       959778  None      2016    2016  ...   \n",
       "4       959778  1527194521       959778  None      2016    2016  ...   \n",
       "\n",
       "  LocationID TopicID QuestionID DataValueTypeID StratificationCategoryID1  \\\n",
       "0         59     ALC     ALC2_2         CRDPREV                   OVERALL   \n",
       "1         01     ALC     ALC2_2         CRDPREV                   OVERALL   \n",
       "2         02     ALC     ALC2_2         CRDPREV                   OVERALL   \n",
       "3         04     ALC     ALC2_2         CRDPREV                   OVERALL   \n",
       "4         05     ALC     ALC2_2         CRDPREV                   OVERALL   \n",
       "\n",
       "  StratificationID1 StratificationCategoryID2 StratificationID2  \\\n",
       "0               OVR                      None              None   \n",
       "1               OVR                      None              None   \n",
       "2               OVR                      None              None   \n",
       "3               OVR                      None              None   \n",
       "4               OVR                      None              None   \n",
       "\n",
       "  StratificationCategoryID3 StratificationID3  \n",
       "0                      None              None  \n",
       "1                      None              None  \n",
       "2                      None              None  \n",
       "3                      None              None  \n",
       "4                      None              None  \n",
       "\n",
       "[5 rows x 42 columns]"
      ]
     },
     "execution_count": 27,
     "metadata": {},
     "output_type": "execute_result"
    }
   ],
   "source": [
    "#Your code here\n",
    "#df = pd.DataFrame(data['meta']['view'])\n",
    "#df.head()\n",
    "\n",
    "# df = pd.DataFrame(data['data'])\n",
    "# df.shape\n",
    "# df_columns = []\n",
    "# for column in data['meta']['view']['columns']:\n",
    "#     df_columns.append(column)\n",
    "# df.head()\n",
    "\n",
    "df = pd.DataFrame(data['data'])  # needed solution help\n",
    "print(df.shape)\n",
    "df.columns = [item['name'] for item in data['meta']['view']['columns']]\n",
    "df.head()"
   ]
  },
  {
   "cell_type": "markdown",
   "metadata": {},
   "source": [
    "## Level-Up\n",
    "## Create a bar graph of states with the highest asthma rates for adults age 18+"
   ]
  },
  {
   "cell_type": "code",
   "execution_count": 28,
   "metadata": {},
   "outputs": [
    {
     "data": {
      "text/plain": [
       "Index(['sid', 'id', 'position', 'created_at', 'created_meta', 'updated_at',\n",
       "       'updated_meta', 'meta', 'YearStart', 'YearEnd', 'LocationAbbr',\n",
       "       'LocationDesc', 'DataSource', 'Topic', 'Question', 'Response',\n",
       "       'DataValueUnit', 'DataValueType', 'DataValue', 'DataValueAlt',\n",
       "       'DataValueFootnoteSymbol', 'DatavalueFootnote', 'LowConfidenceLimit',\n",
       "       'HighConfidenceLimit', 'StratificationCategory1', 'Stratification1',\n",
       "       'StratificationCategory2', 'Stratification2', 'StratificationCategory3',\n",
       "       'Stratification3', 'GeoLocation', 'ResponseID', 'LocationID', 'TopicID',\n",
       "       'QuestionID', 'DataValueTypeID', 'StratificationCategoryID1',\n",
       "       'StratificationID1', 'StratificationCategoryID2', 'StratificationID2',\n",
       "       'StratificationCategoryID3', 'StratificationID3'],\n",
       "      dtype='object')"
      ]
     },
     "execution_count": 28,
     "metadata": {},
     "output_type": "execute_result"
    }
   ],
   "source": [
    "df.columns"
   ]
  },
  {
   "cell_type": "code",
   "execution_count": null,
   "metadata": {},
   "outputs": [],
   "source": [
    "# ABSOLUTELY NO IDEA HOW TO FIND THIS INFO"
   ]
  },
  {
   "cell_type": "code",
   "execution_count": null,
   "metadata": {},
   "outputs": [],
   "source": []
  },
  {
   "cell_type": "markdown",
   "metadata": {},
   "source": [
    "## Summary\n",
    "\n",
    "Well done! In this lab you got some extended practice exploring the structure of JSON files, converting json files to pandas DataFrame, and visualizing data!"
   ]
  }
 ],
 "metadata": {
  "kernelspec": {
   "display_name": "Python 3",
   "language": "python",
   "name": "python3"
  },
  "language_info": {
   "codemirror_mode": {
    "name": "ipython",
    "version": 3
   },
   "file_extension": ".py",
   "mimetype": "text/x-python",
   "name": "python",
   "nbconvert_exporter": "python",
   "pygments_lexer": "ipython3",
   "version": "3.6.9"
  },
  "toc": {
   "base_numbering": 1,
   "nav_menu": {},
   "number_sections": true,
   "sideBar": true,
   "skip_h1_title": false,
   "title_cell": "Table of Contents",
   "title_sidebar": "Contents",
   "toc_cell": false,
   "toc_position": {},
   "toc_section_display": true,
   "toc_window_display": false
  }
 },
 "nbformat": 4,
 "nbformat_minor": 2
}
